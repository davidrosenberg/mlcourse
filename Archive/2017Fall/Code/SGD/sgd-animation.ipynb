{
 "cells": [
  {
   "cell_type": "code",
   "execution_count": 1,
   "metadata": {
    "collapsed": false
   },
   "outputs": [
    {
     "ename": "ImportError",
     "evalue": "No module named pythreejs",
     "output_type": "error",
     "traceback": [
      "\u001b[0;31m---------------------------------------------------------------------------\u001b[0m",
      "\u001b[0;31mImportError\u001b[0m                               Traceback (most recent call last)",
      "\u001b[0;32m<ipython-input-1-d2713c71229b>\u001b[0m in \u001b[0;36m<module>\u001b[0;34m()\u001b[0m\n\u001b[0;32m----> 1\u001b[0;31m \u001b[0;32mfrom\u001b[0m \u001b[0mpythreejs\u001b[0m \u001b[0;32mimport\u001b[0m \u001b[0;34m*\u001b[0m\u001b[0;34m\u001b[0m\u001b[0m\n\u001b[0m",
      "\u001b[0;31mImportError\u001b[0m: No module named pythreejs"
     ]
    }
   ],
   "source": [
    "from pythreejs import *"
   ]
  },
  {
   "cell_type": "code",
   "execution_count": 3,
   "metadata": {
    "collapsed": false
   },
   "outputs": [],
   "source": [
    "import numpy as np\n",
    "from IPython.display import display\n",
    "from traittypes import Array\n",
    "from ipywidgets import HTML, Text, Widget\n",
    "from traitlets import link, dlink, Any, HasTraits"
   ]
  },
  {
   "cell_type": "code",
   "execution_count": 4,
   "metadata": {
    "collapsed": false
   },
   "outputs": [],
   "source": [
    "class Surf(HasTraits):\n",
    "    \n",
    "    function = Any()\n",
    "    points = Array()\n",
    "    \n",
    "    def __init__(self, **kwargs):\n",
    "        self.xmin = kwargs.pop('xmin', -1)\n",
    "        self.xmax = kwargs.pop('xmax', 1)\n",
    "        self.ymin = kwargs.pop('ymin', -1)\n",
    "        self.ymax = kwargs.pop('ymax', 1)\n",
    "        \n",
    "        self.grid_size = kwargs.pop('grid_size', 20)\n",
    "        \n",
    "        self.points = kwargs.pop('points', np.zeros((1, 3)))\n",
    "        self.observe(self.update_points, 'points')\n",
    "            \n",
    "        self.point_size = kwargs.pop('size', 0.05)\n",
    "        \n",
    "        self.function = kwargs.pop('function', lambda xx, yy: xx**2 - yy**2)\n",
    "        self.observe(self.update_surf, 'function')\n",
    "        \n",
    "        self.surf_color = kwargs.pop('surf_color', 'viridis')\n",
    "        self.line_color = kwargs.pop('line_color', 'black')\n",
    "        self.point_colors = kwargs.pop('point_colors', ['red'])\n",
    "        self.cam_position = [0, 3, 3]\n",
    "        self.cam_up = [0, 0, 1]\n",
    "        \n",
    "        self.plot(**kwargs)\n",
    "        self.draw(**kwargs)\n",
    "        \n",
    "    def plot(self, **kwargs):\n",
    "        x = np.linspace(self.xmin, self.xmax, self.grid_size)\n",
    "        y = np.linspace(self.xmin, self.xmax, self.grid_size)\n",
    "        xx, yy = np.meshgrid(x, y)\n",
    "        self.z = self.function(xx, yy)\n",
    "        \n",
    "    def update_surf(self, new):\n",
    "        self.plot()\n",
    "        self.surface_geom.z = list(self.z[::-1].flat)\n",
    "        self.surface.material = LambertMaterial(map=height_texture(self.z[::-1], self.surf_color))\n",
    "        \n",
    "    def update_points(self, new):\n",
    "        self.draw_points()\n",
    "        self.marks = [self.surface, self.surfgrid] + self.dots + [AmbientLight(color='#777777')]\n",
    "        self.scene.children = self.marks\n",
    "        \n",
    "    def draw_surf(self, **kwargs):\n",
    "        self.surface_geom = SurfaceGeometry(z=list(self.z[::-1].flat), \n",
    "                         width=2 * self.xmax,\n",
    "                         height=2 * self.xmax,\n",
    "                         width_segments=self.grid_size - 1,\n",
    "                         height_segments=self.grid_size - 1)\n",
    "        self.surface = Mesh(geometry=self.surface_geom, \n",
    "                         material=LambertMaterial(map=height_texture(self.z[::-1], self.surf_color)))\n",
    "        self.surfgrid = SurfaceGrid(geometry=self.surface_geom, material=LineBasicMaterial(color=self.line_color))\n",
    "        \n",
    "    def draw_points(self, **kwargs):\n",
    "        self.dots = []\n",
    "        for i in range(self.points.shape[0]):\n",
    "            self.dots.append(Mesh(geometry=SphereGeometry(radius=self.point_size), \n",
    "                                    material=LambertMaterial(color=self.point_colors[i % len(self.point_colors\n",
    "                                                                                            )]),\n",
    "                                    position=self.points[i, :].tolist()))\n",
    "    \n",
    "    def draw(self, **kwargs):\n",
    "        self.draw_surf(**kwargs)\n",
    "        self.draw_points(**kwargs)\n",
    "        \n",
    "        self.marks = [self.surface, self.surfgrid] + self.dots + [AmbientLight(color='#777777')]\n",
    "        \n",
    "        self.scene = Scene(children=self.marks)\n",
    "        self.cam = PerspectiveCamera(position=self.cam_position, up=self.cam_up, \n",
    "                              children=[DirectionalLight(color='white', position=[3, 5, 1], intensity=0.6)])\n",
    "\n",
    "        self.figure = Renderer(camera=self.cam,\n",
    "                                 scene = self.scene, controls=[OrbitControls(controlling=self.cam)])\n",
    "        return"
   ]
  },
  {
   "cell_type": "code",
   "execution_count": 5,
   "metadata": {
    "collapsed": false
   },
   "outputs": [],
   "source": [
    "a = Surf()\n",
    "a.figure"
   ]
  },
  {
   "cell_type": "code",
   "execution_count": 6,
   "metadata": {
    "collapsed": false
   },
   "outputs": [],
   "source": [
    "a.function = lambda x, y: x**3 - 3*x*(y**2)"
   ]
  },
  {
   "cell_type": "code",
   "execution_count": 7,
   "metadata": {
    "collapsed": false
   },
   "outputs": [],
   "source": [
    "a.points = np.array([[0, 0, 1], [0, 0, -1]])"
   ]
  },
  {
   "cell_type": "code",
   "execution_count": 8,
   "metadata": {
    "collapsed": true
   },
   "outputs": [],
   "source": [
    "from sympy import *"
   ]
  },
  {
   "cell_type": "code",
   "execution_count": 9,
   "metadata": {
    "collapsed": true
   },
   "outputs": [],
   "source": [
    "def evaluate_gradient(func, point, variables=['x', 'y']):\n",
    "    var = []\n",
    "    grad = []\n",
    "    for i in variables:\n",
    "        var.append(symbols(i))\n",
    "        \n",
    "    if len(point) != len(variables):\n",
    "        raise ValueError('Length of points doesnt match the number of variables')\n",
    "\n",
    "    for i in range(len(var)):\n",
    "        diff_func = lambdify(variables, diff(sympify(func), var[i]))\n",
    "        grad.append(diff_func(*point))\n",
    "    return np.array(grad)"
   ]
  },
  {
   "cell_type": "code",
   "execution_count": 10,
   "metadata": {
    "collapsed": true
   },
   "outputs": [],
   "source": [
    "func = 'x**3 - 3*x*(y**2)'"
   ]
  },
  {
   "cell_type": "code",
   "execution_count": 11,
   "metadata": {
    "collapsed": false
   },
   "outputs": [
    {
     "data": {
      "text/plain": [
       "array([  9, -12])"
      ]
     },
     "execution_count": 11,
     "metadata": {},
     "output_type": "execute_result"
    }
   ],
   "source": [
    "evaluate_gradient(func, [2, 1])"
   ]
  },
  {
   "cell_type": "code",
   "execution_count": 35,
   "metadata": {
    "collapsed": true
   },
   "outputs": [],
   "source": [
    "loc = [.2,.2]"
   ]
  },
  {
   "cell_type": "code",
   "execution_count": 36,
   "metadata": {
    "collapsed": false
   },
   "outputs": [],
   "source": [
    "z=a.function(loc[0],loc[1])"
   ]
  },
  {
   "cell_type": "code",
   "execution_count": 37,
   "metadata": {
    "collapsed": true
   },
   "outputs": [],
   "source": [
    "a.points = np.array([[loc[0],loc[1],z]])"
   ]
  },
  {
   "cell_type": "code",
   "execution_count": 39,
   "metadata": {
    "collapsed": false
   },
   "outputs": [],
   "source": [
    "g = evaluate_gradient(func, loc)"
   ]
  },
  {
   "cell_type": "code",
   "execution_count": 40,
   "metadata": {
    "collapsed": true
   },
   "outputs": [],
   "source": [
    "step_size = .1"
   ]
  },
  {
   "cell_type": "code",
   "execution_count": 41,
   "metadata": {
    "collapsed": true
   },
   "outputs": [],
   "source": [
    "loc = loc - step_size * g"
   ]
  },
  {
   "cell_type": "code",
   "execution_count": 43,
   "metadata": {
    "collapsed": false
   },
   "outputs": [
    {
     "ename": "AttributeError",
     "evalue": "'numpy.ndarray' object has no attribute 'append'",
     "output_type": "error",
     "traceback": [
      "\u001b[0;31m---------------------------------------------------------------------------\u001b[0m",
      "\u001b[0;31mAttributeError\u001b[0m                            Traceback (most recent call last)",
      "\u001b[0;32m<ipython-input-43-b936ef2c644b>\u001b[0m in \u001b[0;36m<module>\u001b[0;34m()\u001b[0m\n\u001b[0;32m----> 1\u001b[0;31m \u001b[0ma\u001b[0m\u001b[0;34m.\u001b[0m\u001b[0mpoints\u001b[0m\u001b[0;34m.\u001b[0m\u001b[0mappend\u001b[0m\u001b[0;34m(\u001b[0m\u001b[0;34m[\u001b[0m\u001b[0;36m0\u001b[0m\u001b[0;34m,\u001b[0m\u001b[0;36m0\u001b[0m\u001b[0;34m,\u001b[0m\u001b[0;36m1\u001b[0m\u001b[0;34m]\u001b[0m\u001b[0;34m)\u001b[0m\u001b[0;34m\u001b[0m\u001b[0m\n\u001b[0m",
      "\u001b[0;31mAttributeError\u001b[0m: 'numpy.ndarray' object has no attribute 'append'"
     ]
    }
   ],
   "source": [
    "a.points.append([0,0,1])"
   ]
  },
  {
   "cell_type": "code",
   "execution_count": 44,
   "metadata": {
    "collapsed": false
   },
   "outputs": [
    {
     "data": {
      "text/plain": [
       "(1, 3)"
      ]
     },
     "execution_count": 44,
     "metadata": {},
     "output_type": "execute_result"
    }
   ],
   "source": [
    "a.points.shape"
   ]
  }
 ],
 "metadata": {
  "kernelspec": {
   "display_name": "Python 2",
   "language": "python",
   "name": "python2"
  },
  "language_info": {
   "codemirror_mode": {
    "name": "ipython",
    "version": 2
   },
   "file_extension": ".py",
   "mimetype": "text/x-python",
   "name": "python",
   "nbconvert_exporter": "python",
   "pygments_lexer": "ipython2",
   "version": "2.7.13"
  }
 },
 "nbformat": 4,
 "nbformat_minor": 0
}
